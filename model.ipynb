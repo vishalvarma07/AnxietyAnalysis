{
 "cells": [
  {
   "cell_type": "markdown",
   "metadata": {
    "collapsed": true,
    "pycharm": {
     "name": "#%% md\n"
    }
   },
   "source": [
    "<h4>Importing required packages"
   ]
  },
  {
   "cell_type": "code",
   "execution_count": 1,
   "outputs": [
    {
     "name": "stderr",
     "output_type": "stream",
     "text": [
      "[nltk_data] Downloading package stopwords to\n",
      "[nltk_data]     C:\\Users\\kovor\\AppData\\Roaming\\nltk_data...\n",
      "[nltk_data]   Package stopwords is already up-to-date!\n"
     ]
    }
   ],
   "source": [
    "import pandas as pd\n",
    "import numpy as np\n",
    "import nltk\n",
    "nltk.download('stopwords')\n",
    "from nltk.corpus import stopwords\n",
    "from nltk.stem.porter import PorterStemmer"
   ],
   "metadata": {
    "collapsed": false,
    "pycharm": {
     "name": "#%%\n"
    }
   }
  },
  {
   "cell_type": "markdown",
   "source": [
    "<h4>Reading the dataset"
   ],
   "metadata": {
    "collapsed": false,
    "pycharm": {
     "name": "#%% md\n"
    }
   }
  },
  {
   "cell_type": "code",
   "execution_count": 2,
   "outputs": [
    {
     "data": {
      "text/plain": "     Unnamed: 0                                              title  score  \\\n0             0  Anxiety is a bitch  This advice really helped me       2   \n1             1  Is anyone else getting super frustrated and ti...      1   \n2             2                        social butterfly to recluse      1   \n3             3  ever since school started i ve been very anxious       0   \n4             4  Don t have a safe space safe person to talk to...      1   \n..          ...                                                ...    ...   \n495         495                  Cleaned My Room But Still Anxious      1   \n496         496                           My anxiety began  health      1   \n497         497                                 well now im scared      1   \n498         498  I had an anxiety attack today and I feel reall...      1   \n499         499                                      Comfort shows     25   \n\n         id               flairs  \\\n0    pv9nxf        Helpful Tips!   \n1    pv9fyd        Advice Needed   \n2    pv987s              Venting   \n3    pv95xx          Work/School   \n4    pv90uy  Needs A Hug/Support   \n..      ...                  ...   \n495  ptpazf              Venting   \n496  ptp3d7              Therapy   \n497  ptp2yk           Medication   \n498  ptozsl  Needs A Hug/Support   \n499  ptow3u        Helpful Tips!   \n\n                                                   url  n_comments  \\\n0    https://www.reddit.com/r/Anxiety/comments/pv9n...           1   \n1    https://www.reddit.com/r/Anxiety/comments/pv9f...           0   \n2    https://www.reddit.com/r/Anxiety/comments/pv98...           0   \n3    https://www.reddit.com/r/Anxiety/comments/pv95...           6   \n4    https://www.reddit.com/r/Anxiety/comments/pv90...           0   \n..                                                 ...         ...   \n495  https://www.reddit.com/r/Anxiety/comments/ptpa...           0   \n496  https://www.reddit.com/r/Anxiety/comments/ptp3...           1   \n497  https://www.reddit.com/r/Anxiety/comments/ptp2...           0   \n498  https://www.reddit.com/r/Anxiety/comments/ptoz...           2   \n499  https://www.reddit.com/r/Anxiety/comments/ptow...          20   \n\n        created                                               body  anxious  \n0    2021-09-25  And when I say bitch I mean it in the sense th...        1  \n1    2021-09-25  Hey guys  I ve suffered with anxiety for years...        1  \n2    2021-09-25  my social anxiety is horrible  i can handle ha...        1  \n3    2021-09-25  every morning i wake up with stomach pains and...        1  \n4    2021-09-25  For context I m a high school senior and I m a...        1  \n..          ...                                                ...      ...  \n495  2021-09-23  It often gets suggested to clean your room bec...        1  \n496  2021-09-23  My anxiety began when i moved away from home t...        1  \n497  2021-09-23  Found out there s moderate interactions betwee...        1  \n498  2021-09-23  So my friend told me she might be dropping out...        1  \n499  2021-09-23  I ve noticed that a lot of us with anxiety hav...        1  \n\n[500 rows x 10 columns]",
      "text/html": "<div>\n<style scoped>\n    .dataframe tbody tr th:only-of-type {\n        vertical-align: middle;\n    }\n\n    .dataframe tbody tr th {\n        vertical-align: top;\n    }\n\n    .dataframe thead th {\n        text-align: right;\n    }\n</style>\n<table border=\"1\" class=\"dataframe\">\n  <thead>\n    <tr style=\"text-align: right;\">\n      <th></th>\n      <th>Unnamed: 0</th>\n      <th>title</th>\n      <th>score</th>\n      <th>id</th>\n      <th>flairs</th>\n      <th>url</th>\n      <th>n_comments</th>\n      <th>created</th>\n      <th>body</th>\n      <th>anxious</th>\n    </tr>\n  </thead>\n  <tbody>\n    <tr>\n      <th>0</th>\n      <td>0</td>\n      <td>Anxiety is a bitch  This advice really helped me</td>\n      <td>2</td>\n      <td>pv9nxf</td>\n      <td>Helpful Tips!</td>\n      <td>https://www.reddit.com/r/Anxiety/comments/pv9n...</td>\n      <td>1</td>\n      <td>2021-09-25</td>\n      <td>And when I say bitch I mean it in the sense th...</td>\n      <td>1</td>\n    </tr>\n    <tr>\n      <th>1</th>\n      <td>1</td>\n      <td>Is anyone else getting super frustrated and ti...</td>\n      <td>1</td>\n      <td>pv9fyd</td>\n      <td>Advice Needed</td>\n      <td>https://www.reddit.com/r/Anxiety/comments/pv9f...</td>\n      <td>0</td>\n      <td>2021-09-25</td>\n      <td>Hey guys  I ve suffered with anxiety for years...</td>\n      <td>1</td>\n    </tr>\n    <tr>\n      <th>2</th>\n      <td>2</td>\n      <td>social butterfly to recluse</td>\n      <td>1</td>\n      <td>pv987s</td>\n      <td>Venting</td>\n      <td>https://www.reddit.com/r/Anxiety/comments/pv98...</td>\n      <td>0</td>\n      <td>2021-09-25</td>\n      <td>my social anxiety is horrible  i can handle ha...</td>\n      <td>1</td>\n    </tr>\n    <tr>\n      <th>3</th>\n      <td>3</td>\n      <td>ever since school started i ve been very anxious</td>\n      <td>0</td>\n      <td>pv95xx</td>\n      <td>Work/School</td>\n      <td>https://www.reddit.com/r/Anxiety/comments/pv95...</td>\n      <td>6</td>\n      <td>2021-09-25</td>\n      <td>every morning i wake up with stomach pains and...</td>\n      <td>1</td>\n    </tr>\n    <tr>\n      <th>4</th>\n      <td>4</td>\n      <td>Don t have a safe space safe person to talk to...</td>\n      <td>1</td>\n      <td>pv90uy</td>\n      <td>Needs A Hug/Support</td>\n      <td>https://www.reddit.com/r/Anxiety/comments/pv90...</td>\n      <td>0</td>\n      <td>2021-09-25</td>\n      <td>For context I m a high school senior and I m a...</td>\n      <td>1</td>\n    </tr>\n    <tr>\n      <th>...</th>\n      <td>...</td>\n      <td>...</td>\n      <td>...</td>\n      <td>...</td>\n      <td>...</td>\n      <td>...</td>\n      <td>...</td>\n      <td>...</td>\n      <td>...</td>\n      <td>...</td>\n    </tr>\n    <tr>\n      <th>495</th>\n      <td>495</td>\n      <td>Cleaned My Room But Still Anxious</td>\n      <td>1</td>\n      <td>ptpazf</td>\n      <td>Venting</td>\n      <td>https://www.reddit.com/r/Anxiety/comments/ptpa...</td>\n      <td>0</td>\n      <td>2021-09-23</td>\n      <td>It often gets suggested to clean your room bec...</td>\n      <td>1</td>\n    </tr>\n    <tr>\n      <th>496</th>\n      <td>496</td>\n      <td>My anxiety began  health</td>\n      <td>1</td>\n      <td>ptp3d7</td>\n      <td>Therapy</td>\n      <td>https://www.reddit.com/r/Anxiety/comments/ptp3...</td>\n      <td>1</td>\n      <td>2021-09-23</td>\n      <td>My anxiety began when i moved away from home t...</td>\n      <td>1</td>\n    </tr>\n    <tr>\n      <th>497</th>\n      <td>497</td>\n      <td>well now im scared</td>\n      <td>1</td>\n      <td>ptp2yk</td>\n      <td>Medication</td>\n      <td>https://www.reddit.com/r/Anxiety/comments/ptp2...</td>\n      <td>0</td>\n      <td>2021-09-23</td>\n      <td>Found out there s moderate interactions betwee...</td>\n      <td>1</td>\n    </tr>\n    <tr>\n      <th>498</th>\n      <td>498</td>\n      <td>I had an anxiety attack today and I feel reall...</td>\n      <td>1</td>\n      <td>ptozsl</td>\n      <td>Needs A Hug/Support</td>\n      <td>https://www.reddit.com/r/Anxiety/comments/ptoz...</td>\n      <td>2</td>\n      <td>2021-09-23</td>\n      <td>So my friend told me she might be dropping out...</td>\n      <td>1</td>\n    </tr>\n    <tr>\n      <th>499</th>\n      <td>499</td>\n      <td>Comfort shows</td>\n      <td>25</td>\n      <td>ptow3u</td>\n      <td>Helpful Tips!</td>\n      <td>https://www.reddit.com/r/Anxiety/comments/ptow...</td>\n      <td>20</td>\n      <td>2021-09-23</td>\n      <td>I ve noticed that a lot of us with anxiety hav...</td>\n      <td>1</td>\n    </tr>\n  </tbody>\n</table>\n<p>500 rows × 10 columns</p>\n</div>"
     },
     "execution_count": 2,
     "metadata": {},
     "output_type": "execute_result"
    }
   ],
   "source": [
    "data = pd.read_csv(\"subreddit.csv\", quoting = 3)\n",
    "data"
   ],
   "metadata": {
    "collapsed": false,
    "pycharm": {
     "name": "#%%\n"
    }
   }
  },
  {
   "cell_type": "markdown",
   "source": [
    "<h4>Dropping columns that are not required according to the problem statement provided"
   ],
   "metadata": {
    "collapsed": false
   }
  },
  {
   "cell_type": "code",
   "execution_count": 3,
   "outputs": [],
   "source": [
    "data = data.drop(['Unnamed: 0','title','score','id','flairs','n_comments','created','url'],axis = 1)"
   ],
   "metadata": {
    "collapsed": false,
    "pycharm": {
     "name": "#%%\n"
    }
   }
  },
  {
   "cell_type": "code",
   "execution_count": 4,
   "outputs": [
    {
     "data": {
      "text/plain": "                                                  body  anxious\n0    And when I say bitch I mean it in the sense th...        1\n1    Hey guys  I ve suffered with anxiety for years...        1\n2    my social anxiety is horrible  i can handle ha...        1\n3    every morning i wake up with stomach pains and...        1\n4    For context I m a high school senior and I m a...        1\n..                                                 ...      ...\n495  It often gets suggested to clean your room bec...        1\n496  My anxiety began when i moved away from home t...        1\n497  Found out there s moderate interactions betwee...        1\n498  So my friend told me she might be dropping out...        1\n499  I ve noticed that a lot of us with anxiety hav...        1\n\n[500 rows x 2 columns]",
      "text/html": "<div>\n<style scoped>\n    .dataframe tbody tr th:only-of-type {\n        vertical-align: middle;\n    }\n\n    .dataframe tbody tr th {\n        vertical-align: top;\n    }\n\n    .dataframe thead th {\n        text-align: right;\n    }\n</style>\n<table border=\"1\" class=\"dataframe\">\n  <thead>\n    <tr style=\"text-align: right;\">\n      <th></th>\n      <th>body</th>\n      <th>anxious</th>\n    </tr>\n  </thead>\n  <tbody>\n    <tr>\n      <th>0</th>\n      <td>And when I say bitch I mean it in the sense th...</td>\n      <td>1</td>\n    </tr>\n    <tr>\n      <th>1</th>\n      <td>Hey guys  I ve suffered with anxiety for years...</td>\n      <td>1</td>\n    </tr>\n    <tr>\n      <th>2</th>\n      <td>my social anxiety is horrible  i can handle ha...</td>\n      <td>1</td>\n    </tr>\n    <tr>\n      <th>3</th>\n      <td>every morning i wake up with stomach pains and...</td>\n      <td>1</td>\n    </tr>\n    <tr>\n      <th>4</th>\n      <td>For context I m a high school senior and I m a...</td>\n      <td>1</td>\n    </tr>\n    <tr>\n      <th>...</th>\n      <td>...</td>\n      <td>...</td>\n    </tr>\n    <tr>\n      <th>495</th>\n      <td>It often gets suggested to clean your room bec...</td>\n      <td>1</td>\n    </tr>\n    <tr>\n      <th>496</th>\n      <td>My anxiety began when i moved away from home t...</td>\n      <td>1</td>\n    </tr>\n    <tr>\n      <th>497</th>\n      <td>Found out there s moderate interactions betwee...</td>\n      <td>1</td>\n    </tr>\n    <tr>\n      <th>498</th>\n      <td>So my friend told me she might be dropping out...</td>\n      <td>1</td>\n    </tr>\n    <tr>\n      <th>499</th>\n      <td>I ve noticed that a lot of us with anxiety hav...</td>\n      <td>1</td>\n    </tr>\n  </tbody>\n</table>\n<p>500 rows × 2 columns</p>\n</div>"
     },
     "execution_count": 4,
     "metadata": {},
     "output_type": "execute_result"
    }
   ],
   "source": [
    "data"
   ],
   "metadata": {
    "collapsed": false,
    "pycharm": {
     "name": "#%%\n"
    }
   }
  },
  {
   "cell_type": "markdown",
   "source": [
    "<h4> Visualizing the skewness of the target data"
   ],
   "metadata": {
    "collapsed": false,
    "pycharm": {
     "name": "#%% md\n"
    }
   }
  },
  {
   "cell_type": "code",
   "source": [
    "import seaborn as sns\n",
    "sns.countplot(data['anxious'])"
   ],
   "metadata": {
    "collapsed": false,
    "pycharm": {
     "name": "#%%\n"
    }
   },
   "execution_count": 5,
   "outputs": [
    {
     "name": "stderr",
     "output_type": "stream",
     "text": [
      "c:\\users\\kovor\\pycharmprojects\\subreddit\\venv\\lib\\site-packages\\seaborn\\_decorators.py:36: FutureWarning: Pass the following variable as a keyword arg: x. From version 0.12, the only valid positional argument will be `data`, and passing other arguments without an explicit keyword will result in an error or misinterpretation.\n",
      "  warnings.warn(\n"
     ]
    },
    {
     "data": {
      "text/plain": "<AxesSubplot:xlabel='anxious', ylabel='count'>"
     },
     "execution_count": 5,
     "metadata": {},
     "output_type": "execute_result"
    },
    {
     "data": {
      "text/plain": "<Figure size 432x288 with 1 Axes>",
      "image/png": "[encoded data removed]"
     },
     "metadata": {
      "needs_background": "light"
     },
     "output_type": "display_data"
    }
   ]
  },
  {
   "cell_type": "markdown",
   "source": [
    "<h4>Cleaning the text and Creating Corpus\n",
    "<h5>Steps used to clean text<br><br>\n",
    "1)Stemming the sentences<br>\n",
    "2)Removing stopwords<br>"
   ],
   "metadata": {
    "collapsed": false
   }
  },
  {
   "cell_type": "code",
   "execution_count": 6,
   "outputs": [],
   "source": [
    "corpus = []\n",
    "for i in range(0,500):\n",
    "    submission = data[\"body\"][i]\n",
    "    submission = str(submission)\n",
    "    submission = submission.split()\n",
    "    ps = PorterStemmer()\n",
    "    submission = [ps.stem(word) for word in submission if not word in set(stopwords.words('english'))]\n",
    "    submission = ' '.join(submission)\n",
    "    corpus.append(submission)"
   ],
   "metadata": {
    "collapsed": false,
    "pycharm": {
     "name": "#%%\n"
    }
   }
  },
  {
   "cell_type": "markdown",
   "source": [
    "<h4>Vectorizing or Tokenizing the corpus to build a sparse matrix (Bag of words)"
   ],
   "metadata": {
    "collapsed": false
   }
  },
  {
   "cell_type": "code",
   "execution_count": 7,
   "outputs": [],
   "source": [
    "from sklearn.feature_extraction.text import CountVectorizer\n",
    "cv = CountVectorizer()\n",
    "X = cv.fit_transform(corpus).toarray()\n",
    "y = data['anxious']"
   ],
   "metadata": {
    "collapsed": false,
    "pycharm": {
     "name": "#%%\n"
    }
   }
  },
  {
   "cell_type": "markdown",
   "source": [
    "<h4>Test Train Split"
   ],
   "metadata": {
    "collapsed": false
   }
  },
  {
   "cell_type": "code",
   "execution_count": 8,
   "outputs": [],
   "source": [
    "from sklearn.model_selection import train_test_split\n",
    "X_train, X_test, y_train, y_test = train_test_split(X, y, test_size = 0.4, random_state = 2)"
   ],
   "metadata": {
    "collapsed": false,
    "pycharm": {
     "name": "#%%\n"
    }
   }
  },
  {
   "cell_type": "markdown",
   "source": [
    "<h4>Using GaussianNB"
   ],
   "metadata": {
    "collapsed": false
   }
  },
  {
   "cell_type": "code",
   "execution_count": 9,
   "outputs": [
    {
     "data": {
      "text/plain": "GaussianNB()"
     },
     "execution_count": 9,
     "metadata": {},
     "output_type": "execute_result"
    }
   ],
   "source": [
    "from sklearn.naive_bayes import GaussianNB\n",
    "classifier = GaussianNB()\n",
    "classifier.fit(X_train, y_train)"
   ],
   "metadata": {
    "collapsed": false,
    "pycharm": {
     "name": "#%%\n"
    }
   }
  },
  {
   "cell_type": "code",
   "execution_count": 10,
   "outputs": [],
   "source": [
    "y_pred = classifier.predict(X_test)"
   ],
   "metadata": {
    "collapsed": false,
    "pycharm": {
     "name": "#%%\n"
    }
   }
  },
  {
   "cell_type": "code",
   "execution_count": 11,
   "outputs": [],
   "source": [
    "from sklearn.metrics import confusion_matrix\n",
    "cm = confusion_matrix(y_test, y_pred)"
   ],
   "metadata": {
    "collapsed": false,
    "pycharm": {
     "name": "#%%\n"
    }
   }
  },
  {
   "cell_type": "code",
   "execution_count": 12,
   "outputs": [
    {
     "data": {
      "text/plain": "array([[  8,  30],\n       [  5, 157]], dtype=int64)"
     },
     "execution_count": 12,
     "metadata": {},
     "output_type": "execute_result"
    }
   ],
   "source": [
    "cm"
   ],
   "metadata": {
    "collapsed": false,
    "pycharm": {
     "name": "#%%\n"
    }
   }
  },
  {
   "cell_type": "code",
   "execution_count": 13,
   "outputs": [
    {
     "name": "stdout",
     "output_type": "stream",
     "text": [
      "Accuracy  0.825\n",
      "Precision  0.9691358024691358\n",
      "Recall  0.839572192513369\n",
      "F1_score 0.8997134670487106\n"
     ]
    }
   ],
   "source": [
    "TP_NB, TN_NB, FP_NB, FN_NB = 157, 8, 5, 30\n",
    "Accuracy_NB = (TP_NB +TN_NB) / (TP_NB + TN_NB + FP_NB + FN_NB)\n",
    "print(\"Accuracy \", Accuracy_NB)\n",
    "Precision_NB = TP_NB / (TP_NB + FP_NB)\n",
    "print(\"Precision \", Precision_NB)\n",
    "Recall_NB = TP_NB / (TP_NB + FN_NB)\n",
    "print(\"Recall \", Recall_NB)\n",
    "F1_Score_NB = 2 * Precision_NB * Recall_NB / (Precision_NB + Recall_NB)\n",
    "print(\"F1_score\", F1_Score_NB)"
   ],
   "metadata": {
    "collapsed": false,
    "pycharm": {
     "name": "#%%\n"
    }
   }
  },
  {
   "cell_type": "markdown",
   "source": [
    "<h4>Using Decision TreeClassifier"
   ],
   "metadata": {
    "collapsed": false
   }
  },
  {
   "cell_type": "code",
   "execution_count": 14,
   "outputs": [],
   "source": [
    "from sklearn.tree import DecisionTreeClassifier\n",
    "classifier = DecisionTreeClassifier(criterion = 'entropy', random_state = 0)\n",
    "classifier.fit(X_train, y_train)\n",
    "y_pred_DT = classifier.predict(X_test)"
   ],
   "metadata": {
    "collapsed": false,
    "pycharm": {
     "name": "#%%\n"
    }
   }
  },
  {
   "cell_type": "code",
   "execution_count": 15,
   "outputs": [
    {
     "data": {
      "text/plain": "array([[  7,  31],\n       [ 28, 134]], dtype=int64)"
     },
     "execution_count": 15,
     "metadata": {},
     "output_type": "execute_result"
    }
   ],
   "source": [
    "cm_DT = confusion_matrix(y_test, y_pred_DT)\n",
    "cm_DT"
   ],
   "metadata": {
    "collapsed": false,
    "pycharm": {
     "name": "#%%\n"
    }
   }
  },
  {
   "cell_type": "code",
   "execution_count": 16,
   "outputs": [
    {
     "name": "stdout",
     "output_type": "stream",
     "text": [
      "Accuracy  0.705\n",
      "Precision  0.8271604938271605\n",
      "Recall  0.8121212121212121\n",
      "F1_score 0.8195718654434251\n"
     ]
    }
   ],
   "source": [
    "TP_DT = 134\n",
    "TN_DT = 7\n",
    "FP_DT = 28\n",
    "FN_DT = 31\n",
    "Accuracy_DT = (TP_DT + TN_DT) / (TP_DT + TN_DT + FP_DT + FN_DT)\n",
    "print(\"Accuracy \", Accuracy_DT)\n",
    "Precision_DT = TP_DT / (TP_DT + FP_DT)\n",
    "print(\"Precision \", Precision_DT)\n",
    "Recall_DT = TP_DT / (TP_DT + FN_DT)\n",
    "print(\"Recall \", Recall_DT)\n",
    "F1_Score_DT = 2 * Precision_DT * Recall_DT / (Precision_DT + Recall_DT)\n",
    "print(\"F1_score\", F1_Score_DT)"
   ],
   "metadata": {
    "collapsed": false,
    "pycharm": {
     "name": "#%%\n"
    }
   }
  },
  {
   "cell_type": "markdown",
   "source": [
    "<h4>Using Random Forest Classifier"
   ],
   "metadata": {
    "collapsed": false
   }
  },
  {
   "cell_type": "code",
   "execution_count": 17,
   "outputs": [],
   "source": [
    "from sklearn.ensemble import RandomForestClassifier\n",
    "classifier = RandomForestClassifier(n_estimators = 300, criterion = 'entropy', random_state = 0)\n",
    "classifier.fit(X_train, y_train)\n",
    "y_pred_RF = classifier.predict(X_test)"
   ],
   "metadata": {
    "collapsed": false,
    "pycharm": {
     "name": "#%%\n"
    }
   }
  },
  {
   "cell_type": "code",
   "execution_count": 18,
   "outputs": [
    {
     "data": {
      "text/plain": "array([[  0,  38],\n       [  0, 162]], dtype=int64)"
     },
     "execution_count": 18,
     "metadata": {},
     "output_type": "execute_result"
    }
   ],
   "source": [
    "cm_RF = confusion_matrix(y_test, y_pred_RF)\n",
    "cm_RF"
   ],
   "metadata": {
    "collapsed": false,
    "pycharm": {
     "name": "#%%\n"
    }
   }
  },
  {
   "cell_type": "code",
   "execution_count": 19,
   "outputs": [
    {
     "name": "stdout",
     "output_type": "stream",
     "text": [
      "Accuracy  0.81\n",
      "Precision  1.0\n",
      "Recall  0.81\n",
      "F1_score 0.8950276243093923\n"
     ]
    }
   ],
   "source": [
    "TP_RF, TN_RF, FP_RF, FN_RF = 162, 0, 0, 38\n",
    "Accuracy_RF = (TP_RF + TN_RF) / (TP_RF + TN_RF + FP_RF + FN_RF)\n",
    "print(\"Accuracy \", Accuracy_RF)\n",
    "Precision_RF = TP_RF / (TP_RF + FP_RF)\n",
    "print(\"Precision \", Precision_RF)\n",
    "Recall_RF = TP_RF / (TP_RF + FN_RF)\n",
    "print(\"Recall \", Recall_RF)\n",
    "F1_Score_RF = 2 * Precision_RF * Recall_RF / (Precision_RF + Recall_RF)\n",
    "print(\"F1_score\", F1_Score_RF)"
   ],
   "metadata": {
    "collapsed": false,
    "pycharm": {
     "name": "#%%\n"
    }
   }
  },
  {
   "cell_type": "markdown",
   "source": [
    "<h4>Visualising the accuracy of the various models used"
   ],
   "metadata": {
    "collapsed": false
   }
  },
  {
   "cell_type": "code",
   "execution_count": 20,
   "outputs": [
    {
     "data": {
      "text/plain": "<Figure size 432x288 with 1 Axes>",
      "image/png": "[encoded data removed]"
     },
     "metadata": {
      "needs_background": "light"
     },
     "output_type": "display_data"
    }
   ],
   "source": [
    "import matplotlib.pyplot as plt\n",
    "Accuracy = [Accuracy_RF, Accuracy_DT, Accuracy_NB]\n",
    "Methods = ['Random_Forest', 'Decision_Trees', 'Naive_Bayes']\n",
    "Accuracy_pos = np.arange(len(Methods))\n",
    "plt.bar(Accuracy_pos, Accuracy)\n",
    "plt.xticks(Accuracy_pos, Methods)\n",
    "plt.title('comparing the accuracy of each model')\n",
    "plt.show()"
   ],
   "metadata": {
    "collapsed": false,
    "pycharm": {
     "name": "#%%\n"
    }
   }
  },
  {
   "cell_type": "code",
   "execution_count": 21,
   "outputs": [
    {
     "data": {
      "text/plain": "<Figure size 432x288 with 1 Axes>",
      "image/png": "[encoded data removed]"
     },
     "metadata": {
      "needs_background": "light"
     },
     "output_type": "display_data"
    }
   ],
   "source": [
    "Precision = [Precision_RF, Precision_DT, Precision_NB]\n",
    "Precision_pos = np.arange(len(Methods))\n",
    "plt.bar(Precision_pos, Precision)\n",
    "plt.xticks(Precision_pos, Methods)\n",
    "plt.title('comparing the precision of each model')\n",
    "plt.show()"
   ],
   "metadata": {
    "collapsed": false,
    "pycharm": {
     "name": "#%%\n"
    }
   }
  },
  {
   "cell_type": "code",
   "execution_count": 22,
   "outputs": [
    {
     "data": {
      "text/plain": "<Figure size 432x288 with 1 Axes>",
      "image/png": "[encoded data removed]"
     },
     "metadata": {
      "needs_background": "light"
     },
     "output_type": "display_data"
    }
   ],
   "source": [
    "Recall = [Recall_RF, Recall_DT, Recall_NB]\n",
    "Recall_pos = np.arange(len(Methods))\n",
    "plt.bar(Recall_pos, Recall)\n",
    "plt.xticks(Recall_pos, Methods)\n",
    "plt.title('comparing the recall of each model')\n",
    "plt.show()"
   ],
   "metadata": {
    "collapsed": false,
    "pycharm": {
     "name": "#%%\n"
    }
   }
  },
  {
   "cell_type": "code",
   "execution_count": 23,
   "outputs": [
    {
     "data": {
      "text/plain": "<Figure size 432x288 with 1 Axes>",
      "image/png": "[encoded data removed]"
     },
     "metadata": {
      "needs_background": "light"
     },
     "output_type": "display_data"
    }
   ],
   "source": [
    "F1_Score = [F1_Score_RF, F1_Score_DT, F1_Score_NB]\n",
    "F1_Score_pos = np.arange(len(Methods))\n",
    "plt.bar(F1_Score_pos, F1_Score)\n",
    "plt.xticks(F1_Score_pos, Methods)\n",
    "plt.title('comparing the F1 Score of each model')\n",
    "plt.show()"
   ],
   "metadata": {
    "collapsed": false,
    "pycharm": {
     "name": "#%%\n"
    }
   }
  },
  {
   "cell_type": "markdown",
   "source": [
    "<h3>Inference</h3>\n",
    "1)First and the foremost thing, 500 rows of data was not really enough.\n",
    "Most of the submissions on reddit were from people who felt anxious, as shown in the count plot.\n",
    "Hence, caused the data to be skewed.<br>\n",
    "2)The confusion matrix of Random Forest clearly shows that the model failed to\n",
    "predict non-anxious submissions. It might have worked well if the data was less\n",
    "skewed.<br>\n",
    "3)So the comparison finally comes down to Decision Trees and Naive_Bayes.\n",
    "Looking at the bar plots above, Naive_bayes is a clear winner. But again, less skewed data\n",
    "could have provided different results.<br>"
   ],
   "metadata": {
    "collapsed": false
   }
  }
 ],
 "metadata": {
  "kernelspec": {
   "display_name": "Python 3",
   "language": "python",
   "name": "python3"
  },
  "language_info": {
   "codemirror_mode": {
    "name": "ipython",
    "version": 2
   },
   "file_extension": ".py",
   "mimetype": "text/x-python",
   "name": "python",
   "nbconvert_exporter": "python",
   "pygments_lexer": "ipython2",
   "version": "2.7.6"
  }
 },
 "nbformat": 4,
 "nbformat_minor": 0
}